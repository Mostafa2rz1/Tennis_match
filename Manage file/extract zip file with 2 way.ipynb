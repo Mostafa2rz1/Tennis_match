{
 "cells": [
  {
   "cell_type": "code",
   "execution_count": 14,
   "metadata": {},
   "outputs": [],
   "source": [
    "import glob\n",
    "import zipfile\n",
    "import os\n",
    "\n",
    "with zipfile.ZipFile(\"Documents/202405.zip\", \"r\") as zfile2:\n",
    "\n",
    "    zfile2.extractall(\"Documents/202405\")\n",
    "\n"
   ]
  },
  {
   "cell_type": "code",
   "execution_count": 15,
   "metadata": {},
   "outputs": [
    {
     "name": "stdout",
     "output_type": "stream",
     "text": [
      "Files extracted to: Documents/202405/1/20240508/\n",
      "Files extracted to: Documents/202405/1/20240518/\n",
      "Files extracted to: Documents/202405/1/20240519/\n",
      "Files extracted to: Documents/202405/1/20240524/\n",
      "Files extracted to: Documents/202405/1/20240506/\n",
      "Files extracted to: Documents/202405/1/20240529/\n",
      "Files extracted to: Documents/202405/1/20240515/\n",
      "Files extracted to: Documents/202405/1/20240509/\n",
      "Files extracted to: Documents/202405/1/20240525/\n",
      "Files extracted to: Documents/202405/1/20240528/\n",
      "Files extracted to: Documents/202405/1/20240512/\n",
      "Files extracted to: Documents/202405/1/20240520/\n",
      "Files extracted to: Documents/202405/1/20240522/\n",
      "Files extracted to: Documents/202405/1/20240516/\n",
      "Files extracted to: Documents/202405/1/20240511/\n",
      "Files extracted to: Documents/202405/1/20240523/\n",
      "Files extracted to: Documents/202405/1/20240501/\n",
      "Files extracted to: Documents/202405/1/20240505/\n",
      "Files extracted to: Documents/202405/1/20240502/\n",
      "Files extracted to: Documents/202405/1/20240521/\n",
      "Files extracted to: Documents/202405/1/20240517/\n",
      "Files extracted to: Documents/202405/1/20240510/\n",
      "Files extracted to: Documents/202405/1/20240530/\n",
      "Files extracted to: Documents/202405/1/20240513/\n",
      "Files extracted to: Documents/202405/1/20240531/\n",
      "Files extracted to: Documents/202405/1/20240507/\n",
      "Files extracted to: Documents/202405/1/20240527/\n",
      "Files extracted to: Documents/202405/1/20240526/\n",
      "Files extracted to: Documents/202405/1/20240504/\n",
      "Files extracted to: Documents/202405/1/20240503/\n",
      "Files extracted to: Documents/202405/1/20240514/\n"
     ]
    }
   ],
   "source": [
    "import glob\n",
    "import zipfile\n",
    "import os\n",
    "\n",
    "files = glob.glob(\"Documents/202405/2024*.zip\")\n",
    "\n",
    "for file in files:\n",
    "    # Define the extraction path based on the file name\n",
    "    extraction_path = f\"Documents/202405/1/{os.path.splitext(os.path.basename(file))[0]}/\"\n",
    "\n",
    "    try:\n",
    "        with zipfile.ZipFile(file, \"r\") as zfile2:\n",
    "            zfile2.extractall(extraction_path)\n",
    "            print(f\"Files extracted to: {extraction_path}\")\n",
    "    except Exception as e:\n",
    "        print(f\"Error extracting {file}: {e}\")\n"
   ]
  }
 ],
 "metadata": {
  "kernelspec": {
   "display_name": "mosi_env",
   "language": "python",
   "name": "python3"
  },
  "language_info": {
   "codemirror_mode": {
    "name": "ipython",
    "version": 3
   },
   "file_extension": ".py",
   "mimetype": "text/x-python",
   "name": "python",
   "nbconvert_exporter": "python",
   "pygments_lexer": "ipython3",
   "version": "3.12.3"
  }
 },
 "nbformat": 4,
 "nbformat_minor": 2
}
