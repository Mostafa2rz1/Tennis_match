{
 "cells": [
  {
   "cell_type": "code",
   "execution_count": null,
   "metadata": {},
   "outputs": [],
   "source": [
    "import os\n",
    "import pandas as pd\n",
    "from concurrent.futures import ThreadPoolExecutor\n",
    "\n",
    "# Specify the directory path\n",
    "directory_path = '/home/mostafa2rz/Desktop/Tennis_project/202405'\n",
    "# Specify the prefixes you want to filter files with\n",
    "prefixes = ['away_team_1','away_team_score','event','home_team_1','home_team_score','round','season','time','tournament','venue','odds', 'pbp' ,'statistics' ,'power', 'votes']\n",
    "\n",
    "# Function to read and concatenate Parquet files for a given prefix\n",
    "def read_concat_parquet_files(prefix):\n",
    "    filtered_files = [os.path.join(root, file) for root, _, files in os.walk(directory_path) for file in files if file.startswith(prefix)]\n",
    "    df = [pd.read_parquet(file, engine='pyarrow') for file in filtered_files]\n",
    "    result_df = pd.concat(df, ignore_index=True)\n",
    "    \n",
    "    # Save the DataFrame to a CSV file with the corresponding prefix\n",
    "    result_df.to_csv(f'{directory_path}/df_{prefix}.csv', index=False)\n",
    "    \n",
    "    return prefix, result_df\n",
    "\n",
    "# Dictionary to store DataFrames\n",
    "dfs = {}\n",
    "\n",
    "# Use ThreadPoolExecutor for parallel processing\n",
    "with ThreadPoolExecutor() as executor:\n",
    "    results = executor.map(read_concat_parquet_files, prefixes)\n",
    "\n",
    "# Store the results in the dictionary\n",
    "for prefix, result_df in results:\n",
    "    key = f'df_{prefix}'  # Use the prefix as the key in the dictionary\n",
    "    dfs[key] = result_df\n",
    "\n",
    "# Access each DataFrame from the dictionary with the prefix as part of the key\n",
    "for key in dfs:\n",
    "    globals()[key] = dfs[key]\n"
   ]
  }
 ],
 "metadata": {
  "language_info": {
   "name": "python"
  }
 },
 "nbformat": 4,
 "nbformat_minor": 2
}
