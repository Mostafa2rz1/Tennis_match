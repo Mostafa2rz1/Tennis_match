{
 "cells": [
  {
   "cell_type": "code",
   "execution_count": 3,
   "metadata": {},
   "outputs": [],
   "source": [
    "import pandas as pd\n",
    "import pyarrow.parquet as pq\n",
    "import os"
   ]
  },
  {
   "cell_type": "code",
   "execution_count": 5,
   "metadata": {},
   "outputs": [
    {
     "ename": "FileNotFoundError",
     "evalue": "[Errno 2] No such file or directory: 'Desktop/Tennis project/202405 /20240501/data/raw'",
     "output_type": "error",
     "traceback": [
      "\u001b[0;31m---------------------------------------------------------------------------\u001b[0m",
      "\u001b[0;31mFileNotFoundError\u001b[0m                         Traceback (most recent call last)",
      "Cell \u001b[0;32mIn[5], line 2\u001b[0m\n\u001b[1;32m      1\u001b[0m folders_of_table \u001b[38;5;241m=\u001b[39m \u001b[38;5;124m\"\u001b[39m\u001b[38;5;124mDesktop/Tennis project/202405 /20240501/data/raw\u001b[39m\u001b[38;5;124m\"\u001b[39m\n\u001b[0;32m----> 2\u001b[0m folders_path \u001b[38;5;241m=\u001b[39m [os\u001b[38;5;241m.\u001b[39mpath\u001b[38;5;241m.\u001b[39mjoin(folders_of_table, file) \u001b[38;5;28;01mfor\u001b[39;00m file \u001b[38;5;129;01min\u001b[39;00m \u001b[43mos\u001b[49m\u001b[38;5;241;43m.\u001b[39;49m\u001b[43mlistdir\u001b[49m\u001b[43m(\u001b[49m\u001b[43mfolders_of_table\u001b[49m\u001b[43m)\u001b[49m ]\n",
      "\u001b[0;31mFileNotFoundError\u001b[0m: [Errno 2] No such file or directory: 'Desktop/Tennis project/202405 /20240501/data/raw'"
     ]
    }
   ],
   "source": [
    "folders_of_table = \"Desktop/Tennis project/202405 /20240501/data/raw\"\n",
    "folders_path = [os.path.join(folders_of_table, file) for file in os.listdir(folders_of_table) ]"
   ]
  },
  {
   "cell_type": "code",
   "execution_count": 7,
   "metadata": {},
   "outputs": [
    {
     "data": {
      "text/plain": [
       "['/home/mostafa2rz/Downloads/c/away_team_12260076.parquet',\n",
       " '/home/mostafa2rz/Downloads/c/away_team_12260077.parquet',\n",
       " '/home/mostafa2rz/Downloads/c/away_team_12260075.parquet']"
      ]
     },
     "execution_count": 7,
     "metadata": {},
     "output_type": "execute_result"
    }
   ],
   "source": [
    "\n",
    "folder_path = \"/home/mostafa2rz/Downloads/c\"\n",
    "\n",
    "file_paths = [os.path.join(folder_path, file) for file in os.listdir(folder_path) ]\n",
    "\n",
    "file_paths"
   ]
  },
  {
   "cell_type": "code",
   "execution_count": 3,
   "metadata": {},
   "outputs": [],
   "source": [
    "df = [pd.read_parquet(file, engine= 'pyarrow') for file in file_paths ]"
   ]
  },
  {
   "cell_type": "code",
   "execution_count": 4,
   "metadata": {},
   "outputs": [
    {
     "data": {
      "text/html": [
       "<div>\n",
       "<style scoped>\n",
       "    .dataframe tbody tr th:only-of-type {\n",
       "        vertical-align: middle;\n",
       "    }\n",
       "\n",
       "    .dataframe tbody tr th {\n",
       "        vertical-align: top;\n",
       "    }\n",
       "\n",
       "    .dataframe thead th {\n",
       "        text-align: right;\n",
       "    }\n",
       "</style>\n",
       "<table border=\"1\" class=\"dataframe\">\n",
       "  <thead>\n",
       "    <tr style=\"text-align: right;\">\n",
       "      <th></th>\n",
       "      <th>match_id</th>\n",
       "      <th>name</th>\n",
       "      <th>slug</th>\n",
       "      <th>gender</th>\n",
       "      <th>user_count</th>\n",
       "      <th>residence</th>\n",
       "      <th>birthplace</th>\n",
       "      <th>height</th>\n",
       "      <th>weight</th>\n",
       "      <th>plays</th>\n",
       "      <th>turned_pro</th>\n",
       "      <th>current_prize</th>\n",
       "      <th>total_prize</th>\n",
       "      <th>player_id</th>\n",
       "      <th>current_rank</th>\n",
       "      <th>name_code</th>\n",
       "      <th>country</th>\n",
       "      <th>full_name</th>\n",
       "    </tr>\n",
       "  </thead>\n",
       "  <tbody>\n",
       "    <tr>\n",
       "      <th>0</th>\n",
       "      <td>12260076</td>\n",
       "      <td>Khachanov K.</td>\n",
       "      <td>khachanov-karen</td>\n",
       "      <td>M</td>\n",
       "      <td>14411</td>\n",
       "      <td>Dubai, UAE</td>\n",
       "      <td>Moscow, Russia</td>\n",
       "      <td>1.98</td>\n",
       "      <td>87</td>\n",
       "      <td>right-handed</td>\n",
       "      <td>2013</td>\n",
       "      <td>877460</td>\n",
       "      <td>13580818</td>\n",
       "      <td>90080</td>\n",
       "      <td>18</td>\n",
       "      <td>KHA</td>\n",
       "      <td>Russia</td>\n",
       "      <td>Khachanov, Karen</td>\n",
       "    </tr>\n",
       "    <tr>\n",
       "      <th>1</th>\n",
       "      <td>12260077</td>\n",
       "      <td>Alcaraz C.</td>\n",
       "      <td>alcaraz-carlos</td>\n",
       "      <td>M</td>\n",
       "      <td>141553</td>\n",
       "      <td>El Palmar, Murcia, Spain</td>\n",
       "      <td>El Palmar, Murcia, Spain</td>\n",
       "      <td>1.83</td>\n",
       "      <td>68</td>\n",
       "      <td>right-handed</td>\n",
       "      <td>2018</td>\n",
       "      <td>1590518</td>\n",
       "      <td>24112308</td>\n",
       "      <td>275923</td>\n",
       "      <td>3</td>\n",
       "      <td>ALC</td>\n",
       "      <td>Spain</td>\n",
       "      <td>Alcaraz, Carlos</td>\n",
       "    </tr>\n",
       "    <tr>\n",
       "      <th>2</th>\n",
       "      <td>12260075</td>\n",
       "      <td>Lehečka J.</td>\n",
       "      <td>lehecka-jiri</td>\n",
       "      <td>M</td>\n",
       "      <td>6858</td>\n",
       "      <td>Knezmost, Czech Republic</td>\n",
       "      <td>Mlada Boleslav, Czechia</td>\n",
       "      <td>1.85</td>\n",
       "      <td>80</td>\n",
       "      <td>right-handed</td>\n",
       "      <td>None</td>\n",
       "      <td>763346</td>\n",
       "      <td>2988783</td>\n",
       "      <td>254742</td>\n",
       "      <td>24</td>\n",
       "      <td>LEH</td>\n",
       "      <td>Czech Republic</td>\n",
       "      <td>Lehečka, Jiří</td>\n",
       "    </tr>\n",
       "  </tbody>\n",
       "</table>\n",
       "</div>"
      ],
      "text/plain": [
       "   match_id          name             slug gender  user_count  \\\n",
       "0  12260076  Khachanov K.  khachanov-karen      M       14411   \n",
       "1  12260077    Alcaraz C.   alcaraz-carlos      M      141553   \n",
       "2  12260075    Lehečka J.     lehecka-jiri      M        6858   \n",
       "\n",
       "                  residence                birthplace  height  weight  \\\n",
       "0                Dubai, UAE            Moscow, Russia    1.98      87   \n",
       "1  El Palmar, Murcia, Spain  El Palmar, Murcia, Spain    1.83      68   \n",
       "2  Knezmost, Czech Republic   Mlada Boleslav, Czechia    1.85      80   \n",
       "\n",
       "          plays turned_pro  current_prize  total_prize  player_id  \\\n",
       "0  right-handed       2013         877460     13580818      90080   \n",
       "1  right-handed       2018        1590518     24112308     275923   \n",
       "2  right-handed       None         763346      2988783     254742   \n",
       "\n",
       "   current_rank name_code         country         full_name  \n",
       "0            18       KHA          Russia  Khachanov, Karen  \n",
       "1             3       ALC           Spain   Alcaraz, Carlos  \n",
       "2            24       LEH  Czech Republic     Lehečka, Jiří  "
      ]
     },
     "execution_count": 4,
     "metadata": {},
     "output_type": "execute_result"
    }
   ],
   "source": [
    "result_df = pd.concat([df[i] for i in range(len(df))], ignore_index=True)\n",
    "result_df"
   ]
  }
 ],
 "metadata": {
  "kernelspec": {
   "display_name": ".venv",
   "language": "python",
   "name": "python3"
  },
  "language_info": {
   "codemirror_mode": {
    "name": "ipython",
    "version": 3
   },
   "file_extension": ".py",
   "mimetype": "text/x-python",
   "name": "python",
   "nbconvert_exporter": "python",
   "pygments_lexer": "ipython3",
   "version": "3.12.3"
  }
 },
 "nbformat": 4,
 "nbformat_minor": 2
}
