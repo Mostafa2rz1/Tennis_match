{
 "cells": [
  {
   "cell_type": "markdown",
   "metadata": {},
   "source": [
    "**Importing Required Libraries and Modules :**"
   ]
  },
  {
   "cell_type": "code",
   "execution_count": 2,
   "metadata": {},
   "outputs": [],
   "source": [
    "import os\n",
    "import glob\n",
    "import zipfile\n",
    "import pycountry\n",
    "import numpy as np\n",
    "import pandas as pd\n",
    "import pyarrow.parquet as pq\n",
    "import matplotlib.pyplot as plt\n",
    "from concurrent.futures import ThreadPoolExecutor\n",
    "import seaborn as sns"
   ]
  },
  {
   "cell_type": "markdown",
   "metadata": {},
   "source": [
    "**Unzip the main file :**"
   ]
  },
  {
   "cell_type": "code",
   "execution_count": null,
   "metadata": {},
   "outputs": [],
   "source": [
    "with zipfile.ZipFile(\"202405.zip\", \"r\") as zfile:\n",
    "    zfile.extractall()\n",
    "\n",
    "#remove zip file after unzipping\n",
    "os.remove(\"202405.zip\")"
   ]
  },
  {
   "cell_type": "markdown",
   "metadata": {},
   "source": [
    "**Unzip each day :**"
   ]
  },
  {
   "cell_type": "code",
   "execution_count": null,
   "metadata": {},
   "outputs": [],
   "source": [
    "files = glob.glob(\"/202405/2024*.zip\")\n",
    "\n",
    "#unzip each file that begin with 2024\n",
    "for file in files:\n",
    "    extraction_path = f\"/202405/{os.path.splitext(os.path.basename(file))[0]}/\"\n",
    "    with zipfile.ZipFile(file, \"r\") as zfile2:\n",
    "        zfile2.extractall(extraction_path)\n",
    "    \n",
    "    #remove zip files after unzipping\n",
    "    os.remove(file)"
   ]
  },
  {
   "cell_type": "markdown",
   "metadata": {},
   "source": [
    "**Saving data into csv formats :**"
   ]
  },
  {
   "cell_type": "code",
   "execution_count": null,
   "metadata": {},
   "outputs": [],
   "source": [
    "# Specify the directory path\n",
    "directory_path = '/202405'\n",
    "\n",
    "# Specify the prefixes you want to filter files with\n",
    "prefixes = ['away_team_1','away_team_score','event','home_team_1','home_team_score','round','season','time','tournament','venue','odds', 'pbp' ,'statistics' ,'power', 'votes']\n",
    "\n",
    "# Function to read and concatenate Parquet files for a given prefix\n",
    "def read_concat_parquet_files(prefix):\n",
    "    filtered_files = [os.path.join(root, file) for root, _, files in os.walk(directory_path) for file in files if file.startswith(prefix)]\n",
    "    df = [pd.read_parquet(file, engine='pyarrow') for file in filtered_files]\n",
    "    result_df = pd.concat(df, ignore_index=True)\n",
    "    \n",
    "    # Save the DataFrame to a CSV file with the corresponding prefix\n",
    "    result_df.to_csv(f'{directory_path}/df_{prefix}.csv', index=False)\n",
    "    \n",
    "    return prefix, result_df\n",
    "\n",
    "# Dictionary to store DataFrames\n",
    "dfs = {}\n",
    "\n",
    "# Use ThreadPoolExecutor for parallel processing\n",
    "with ThreadPoolExecutor() as executor:\n",
    "    results = executor.map(read_concat_parquet_files, prefixes)\n",
    "\n",
    "# Store the results in the dictionary\n",
    "for prefix, result_df in results:\n",
    "    key = f'df_{prefix}'  # Use the prefix as the key in the dictionary\n",
    "    dfs[key] = result_df\n",
    "\n",
    "# Access each DataFrame from the dictionary with the prefix as part of the key\n",
    "for key in dfs:\n",
    "    globals()[key] = dfs[key]"
   ]
  },
  {
   "cell_type": "markdown",
   "metadata": {},
   "source": [
    "**1. How many tennis players are included in the dataset?**"
   ]
  },
  {
   "cell_type": "code",
   "execution_count": 11,
   "metadata": {},
   "outputs": [
    {
     "data": {
      "text/plain": [
       "2352"
      ]
     },
     "execution_count": 11,
     "metadata": {},
     "output_type": "execute_result"
    }
   ],
   "source": [
    "match_away_team_info = pd.read_csv('df/df_away_team_1.csv').drop_duplicates(subset='match_id', keep='first')\n",
    "match_home_team_info = pd.read_csv('df/df_home_team_1.csv').drop_duplicates(subset='match_id', keep='first')\n",
    "total_team_info = pd.merge(match_away_team_info, match_home_team_info, how='outer')\n",
    "total_team_info['player_id'].nunique()"
   ]
  },
  {
   "cell_type": "markdown",
   "metadata": {},
   "source": [
    "**2. What is the average height of the players?**"
   ]
  },
  {
   "cell_type": "code",
   "execution_count": 28,
   "metadata": {},
   "outputs": [
    {
     "data": {
      "text/plain": [
       "np.float64(1.8194051990013218)"
      ]
     },
     "execution_count": 28,
     "metadata": {},
     "output_type": "execute_result"
    }
   ],
   "source": [
    "total_team_info['height'].mean()"
   ]
  },
  {
   "cell_type": "markdown",
   "metadata": {},
   "source": [
    "**3. Which player has the highest number of wins?**"
   ]
  },
  {
   "cell_type": "code",
   "execution_count": 36,
   "metadata": {},
   "outputs": [
    {
     "data": {
      "text/plain": [
       "np.float64(253356.0)"
      ]
     },
     "execution_count": 36,
     "metadata": {},
     "output_type": "execute_result"
    }
   ],
   "source": [
    "df_pbp = pd.read_csv('project1/df/df_pbp.csv')\n",
    "\n",
    "# Assuming df is your DataFrame with columns: match_id, set_id, game_id, point_id, home_point, away_point\n",
    "# Find the row with the maximum point_id for each game_id\n",
    "max_point_rows = df_pbp.loc[df_pbp.groupby(['match_id','set_id','game_id'])['point_id'].idxmax()]\n",
    "\n",
    "# Replace a unique value in the 'home_point' column with a new value\n",
    "max_point_rows['home_point'] = max_point_rows['home_point'].replace('A', '60')\n",
    "\n",
    "# Replace a unique value in the 'away_point' column with a new value\n",
    "max_point_rows['away_point'] = max_point_rows['away_point'].replace('A', '60')\n",
    "\n",
    "# Calculate the winner of each game based on the condition\n",
    "max_point_rows['game_winner'] = max_point_rows.apply(lambda x: 'home' if x['home_point'] > x['away_point'] else 'away' if x['home_point'] < x['away_point']  else None, axis=1)\n",
    "\n",
    "# Calculate the player with the most wins in each game\n",
    "game_winners = max_point_rows.groupby(['match_id', 'set_id', 'game_id', 'game_winner'])['game_winner'].count().reset_index(name='win_count')\n",
    "max_game_winners = game_winners.loc[game_winners.groupby(['match_id', 'set_id', 'game_id'])['win_count'].idxmax()]\n",
    "\n",
    "# Determine the winner of each set\n",
    "set_winners = max_game_winners.groupby(['match_id', 'set_id', 'game_winner'])['game_winner'].count().reset_index(name='set_win_count')\n",
    "max_set_winners = set_winners.loc[set_winners.groupby(['match_id', 'set_id'])['set_win_count'].idxmax()]\n",
    "\n",
    "# Determine the winner of the match\n",
    "match_winners = max_set_winners.groupby(['match_id', 'game_winner'])['game_winner'].count().reset_index(name='match_win_count')\n",
    "max_match_winner = match_winners.loc[match_winners.groupby('match_id')['match_win_count'].idxmax()]\n",
    "\n",
    "# The final winner of each match\n",
    "df_match_winners = max_match_winner[['match_id', 'game_winner']].rename(columns={'game_winner': 'match_winner'})\n",
    "\n",
    "# Save the winners for each match_id in a new DataFrame\n",
    "df_match_winners.to_csv('match_winners.csv')\n",
    "\n",
    "#apply player_id colums to my match_winners dataframe\n",
    "#open player dataframe\n",
    "df_home_team_1 = pd.read_csv('project1/df/df_home_team_1.csv').drop_duplicates(subset='match_id')\n",
    "df_away_team_1 = pd.read_csv('project1/df/df_away_team_1.csv').drop_duplicates(subset='match_id')\n",
    "\n",
    "#seprate away and home player to single dataframe for merge\n",
    "df_match_winners_away = df_match_winners.loc[df_match_winners['match_winner'] == 'away',  ['match_id','match_winner']]\n",
    "df_match_winners_home = df_match_winners.loc[df_match_winners['match_winner'] == 'home',  ['match_id','match_winner']]\n",
    "\n",
    "#merge df to find player id winner for each match\n",
    "df_match_winners_away_with_player_id = df_match_winners_away.merge(df_away_team_1[['player_id','match_id']] , on='match_id', how='left')\n",
    "df_match_winners_home_with_player_id = df_match_winners_home.merge(df_home_team_1[['player_id','match_id']] , on='match_id', how='left')\n",
    "\n",
    "#concate home and away dataframe winner\n",
    "df_match_winners_with_player_id = pd.concat([df_match_winners_away_with_player_id,df_match_winners_home_with_player_id] )\n",
    "\n",
    "# each player how many wins series\n",
    "df_match_winners_with_player_id = df_match_winners_with_player_id.dropna()\n",
    "df_match_winners_with_player_id.groupby('player_id')['match_id'].count()\n",
    "\n",
    "#player_id of who can top wins match in touroments\n",
    "df_match_winners_with_player_id.groupby('player_id')['match_id'].count().idxmax()"
   ]
  },
  {
   "cell_type": "markdown",
   "metadata": {},
   "source": [
    "**4. What is the longest match recorded in terms of duration?**"
   ]
  },
  {
   "cell_type": "code",
   "execution_count": 12,
   "metadata": {},
   "outputs": [
    {
     "data": {
      "text/plain": [
       "np.int64(12346747)"
      ]
     },
     "execution_count": 12,
     "metadata": {},
     "output_type": "execute_result"
    }
   ],
   "source": [
    "match_time_info = pd.read_csv('df/df_time.csv').drop_duplicates(subset='match_id', keep='first')\n",
    "match_time_info['Total'] = match_time_info.iloc[:, 1:5].sum(axis=1)\n",
    "match_time_info.loc[match_time_info['Total'].idxmax(), 'match_id']"
   ]
  },
  {
   "cell_type": "markdown",
   "metadata": {},
   "source": [
    "**5. How many sets are typically played in a tennis match?**"
   ]
  },
  {
   "cell_type": "code",
   "execution_count": 9,
   "metadata": {},
   "outputs": [
    {
     "data": {
      "text/plain": [
       "set_id\n",
       "2    4518\n",
       "3    1920\n",
       "1      68\n",
       "4      29\n",
       "5      20\n",
       "Name: count, dtype: int64"
      ]
     },
     "execution_count": 9,
     "metadata": {},
     "output_type": "execute_result"
    }
   ],
   "source": [
    "organized_game_info = pd.read_csv('df/df_pbp.csv').groupby('match_id')['set_id'].max().reset_index()\n",
    "organized_game_info['set_id'].value_counts()"
   ]
  },
  {
   "cell_type": "markdown",
   "metadata": {},
   "source": [
    "Typically 2 sets are played in a tennis match."
   ]
  },
  {
   "cell_type": "markdown",
   "metadata": {},
   "source": [
    "**6. Which country has produced the most successful tennis players?**"
   ]
  },
  {
   "cell_type": "code",
   "execution_count": 10,
   "metadata": {},
   "outputs": [
    {
     "data": {
      "text/html": [
       "<div>\n",
       "<style scoped>\n",
       "    .dataframe tbody tr th:only-of-type {\n",
       "        vertical-align: middle;\n",
       "    }\n",
       "\n",
       "    .dataframe tbody tr th {\n",
       "        vertical-align: top;\n",
       "    }\n",
       "\n",
       "    .dataframe thead th {\n",
       "        text-align: right;\n",
       "    }\n",
       "</style>\n",
       "<table border=\"1\" class=\"dataframe\">\n",
       "  <thead>\n",
       "    <tr style=\"text-align: right;\">\n",
       "      <th></th>\n",
       "      <th>country</th>\n",
       "      <th>current_rank</th>\n",
       "    </tr>\n",
       "  </thead>\n",
       "  <tbody>\n",
       "    <tr>\n",
       "      <th>69</th>\n",
       "      <td>Philippines</td>\n",
       "      <td>160.000000</td>\n",
       "    </tr>\n",
       "    <tr>\n",
       "      <th>55</th>\n",
       "      <td>Malta</td>\n",
       "      <td>300.000000</td>\n",
       "    </tr>\n",
       "    <tr>\n",
       "      <th>1</th>\n",
       "      <td>Andorra</td>\n",
       "      <td>310.000000</td>\n",
       "    </tr>\n",
       "    <tr>\n",
       "      <th>87</th>\n",
       "      <td>Tunisia</td>\n",
       "      <td>330.000000</td>\n",
       "    </tr>\n",
       "    <tr>\n",
       "      <th>84</th>\n",
       "      <td>Syria</td>\n",
       "      <td>345.000000</td>\n",
       "    </tr>\n",
       "    <tr>\n",
       "      <th>...</th>\n",
       "      <td>...</td>\n",
       "      <td>...</td>\n",
       "    </tr>\n",
       "    <tr>\n",
       "      <th>63</th>\n",
       "      <td>Nigeria</td>\n",
       "      <td>1257.333333</td>\n",
       "    </tr>\n",
       "    <tr>\n",
       "      <th>6</th>\n",
       "      <td>Azerbaijan</td>\n",
       "      <td>1277.000000</td>\n",
       "    </tr>\n",
       "    <tr>\n",
       "      <th>2</th>\n",
       "      <td>Antigua and Barbuda</td>\n",
       "      <td>1497.000000</td>\n",
       "    </tr>\n",
       "    <tr>\n",
       "      <th>72</th>\n",
       "      <td>Qatar</td>\n",
       "      <td>NaN</td>\n",
       "    </tr>\n",
       "    <tr>\n",
       "      <th>86</th>\n",
       "      <td>Trinidad and Tobago</td>\n",
       "      <td>NaN</td>\n",
       "    </tr>\n",
       "  </tbody>\n",
       "</table>\n",
       "<p>97 rows × 2 columns</p>\n",
       "</div>"
      ],
      "text/plain": [
       "                country  current_rank\n",
       "69          Philippines    160.000000\n",
       "55                Malta    300.000000\n",
       "1               Andorra    310.000000\n",
       "87              Tunisia    330.000000\n",
       "84                Syria    345.000000\n",
       "..                  ...           ...\n",
       "63              Nigeria   1257.333333\n",
       "6            Azerbaijan   1277.000000\n",
       "2   Antigua and Barbuda   1497.000000\n",
       "72                Qatar           NaN\n",
       "86  Trinidad and Tobago           NaN\n",
       "\n",
       "[97 rows x 2 columns]"
      ]
     },
     "execution_count": 10,
     "metadata": {},
     "output_type": "execute_result"
    }
   ],
   "source": [
    "organized_team_info = total_team_info.drop_duplicates(subset='player_id', keep='first').groupby('country')['current_rank'].mean().reset_index()\n",
    "organized_team_info.sort_values(by = 'current_rank')"
   ]
  },
  {
   "cell_type": "markdown",
   "metadata": {},
   "source": [
    "Philippines has produced the most successful players."
   ]
  },
  {
   "cell_type": "markdown",
   "metadata": {},
   "source": [
    "**7. What is the average number of aces per match?**"
   ]
  },
  {
   "cell_type": "code",
   "execution_count": 21,
   "metadata": {},
   "outputs": [
    {
     "data": {
      "text/plain": [
       "np.float64(6.49257025158158)"
      ]
     },
     "execution_count": 21,
     "metadata": {},
     "output_type": "execute_result"
    }
   ],
   "source": [
    "period_info = pd.read_csv('df/df_statistics.csv')\n",
    "period_info.groupby('match_id')['statistic_name'].apply(lambda x: (x == 'aces').sum()).mean()"
   ]
  },
  {
   "cell_type": "markdown",
   "metadata": {},
   "source": [
    "**8. Is there a difference in the number of double faults based on gender?**"
   ]
  },
  {
   "cell_type": "code",
   "execution_count": 22,
   "metadata": {},
   "outputs": [
    {
     "data": {
      "text/plain": [
       "gender\n",
       "F    6.416489\n",
       "M    6.624333\n",
       "Name: double_faults, dtype: float64"
      ]
     },
     "execution_count": 22,
     "metadata": {},
     "output_type": "execute_result"
    }
   ],
   "source": [
    "organized_period_info = period_info.groupby('match_id')['statistic_name'].apply(lambda x: (x == 'double_faults').sum()).reset_index(name='double_faults')\n",
    "pd.merge(match_away_team_info, organized_period_info, how='outer').groupby('gender')['double_faults'].mean()"
   ]
  },
  {
   "cell_type": "code",
   "execution_count": 41,
   "metadata": {},
   "outputs": [
    {
     "data": {
      "text/plain": [
       "0.8466567521587198"
      ]
     },
     "execution_count": 41,
     "metadata": {},
     "output_type": "execute_result"
    }
   ],
   "source": [
    "(0.5-(6.41/(6.416489+6.624333))) * 100"
   ]
  },
  {
   "cell_type": "markdown",
   "metadata": {},
   "source": [
    "Gender effects double faults less than one percent ."
   ]
  },
  {
   "cell_type": "markdown",
   "metadata": {},
   "source": [
    "**10. Is there a correlation between a player's height and their ranking?**"
   ]
  },
  {
   "cell_type": "markdown",
   "metadata": {},
   "source": [
    "**9. Which player has won the most tournaments in a single month?**"
   ]
  },
  {
   "cell_type": "code",
   "execution_count": null,
   "metadata": {},
   "outputs": [],
   "source": [
    "#open dataframe\n",
    "df_tournament = pd.read_csv('project1/df/df_tournament.csv').drop_duplicates(subset='match_id')\n",
    "df_match_winners = pd.read_csv('project1/df/match_winner.csv')\n",
    "#open df_round\n",
    "df_round = pd.read_csv('project1/df/df_round.csv')\n",
    "# add tornament_id for each match in df_match winner\n",
    "df_match_winners_with_tournament = df_match_winners.merge(df_tournament[['tournament_id', 'match_id']] , on='match_id', how='left')\n",
    "\n",
    "df_round_finall = df_round.loc[df_round['slug'] == 'final'].drop_duplicates('match_id')\n",
    "#merge to find winner of last match of each tournament to see who win tournament\n",
    "df_match_winners_final_match_of_each_tournament = df_match_winners_with_tournament.merge(df_round_finall[ 'match_id'] , on='match_id', how='right').dropna(subset=['tournament_id'])\n",
    "int(df_match_winners_final_match_of_each_tournament.groupby('player_id')['tournament_id'].count().idxmax())"
   ]
  },
  {
   "cell_type": "code",
   "execution_count": 29,
   "metadata": {},
   "outputs": [
    {
     "data": {
      "text/plain": [
       "np.float64(0.11238320058640809)"
      ]
     },
     "execution_count": 29,
     "metadata": {},
     "output_type": "execute_result"
    }
   ],
   "source": [
    "total_team_info = pd.merge(match_away_team_info, match_home_team_info, how='outer')\n",
    "total_team_info['height'].corr(total_team_info['current_rank'])"
   ]
  },
  {
   "cell_type": "markdown",
   "metadata": {},
   "source": [
    "This number is near zero so they have a weak correlation."
   ]
  },
  {
   "cell_type": "code",
   "execution_count": 48,
   "metadata": {},
   "outputs": [
    {
     "data": {
      "image/png": "[encoded data removed]",
      "text/plain": [
       "<Figure size 1200x600 with 1 Axes>"
      ]
     },
     "metadata": {},
     "output_type": "display_data"
    }
   ],
   "source": [
    "fig, ax = plt.subplots(figsize=(12, 6))\n",
    "\n",
    "# Create the scatter plot\n",
    "ax.scatter(total_team_info['height'], total_team_info['current_rank'])\n",
    "\n",
    "# Set axis labels\n",
    "ax.set_xlabel('Height')\n",
    "ax.set_ylabel('current_rank')\n",
    "\n",
    "#Set the title\n",
    "ax.set_title('correlation between height and rank')\n",
    "\n",
    "# Show the plot\n",
    "plt.show()"
   ]
  },
  {
   "cell_type": "markdown",
   "metadata": {},
   "source": [
    "You can't see a pattern so there isn't a correlation. "
   ]
  },
  {
   "cell_type": "markdown",
   "metadata": {},
   "source": [
    "**11. What is the average duration of matches?**"
   ]
  },
  {
   "cell_type": "code",
   "execution_count": 31,
   "metadata": {},
   "outputs": [
    {
     "data": {
      "text/plain": [
       "np.float64(7331.208374223094)"
      ]
     },
     "execution_count": 31,
     "metadata": {},
     "output_type": "execute_result"
    }
   ],
   "source": [
    "match_time_info = pd.read_csv('df/df_time.csv').drop_duplicates(subset='match_id', keep='first')\n",
    "match_time_info['Total'] = match_time_info.iloc[:, 1:5].sum(axis=1)\n",
    "match_time_info[match_time_info['Total'] != 0]['Total'].mean()"
   ]
  },
  {
   "cell_type": "markdown",
   "metadata": {},
   "source": [
    "**12. What is the average number of games per set in men's matches compared to women's matches?**"
   ]
  },
  {
   "cell_type": "code",
   "execution_count": 42,
   "metadata": {},
   "outputs": [
    {
     "data": {
      "text/plain": [
       "gender\n",
       "F    5.037571\n",
       "M    5.211970\n",
       "Name: mean_game_id, dtype: float64"
      ]
     },
     "execution_count": 42,
     "metadata": {},
     "output_type": "execute_result"
    }
   ],
   "source": [
    "game_info = pd.read_csv('df/df_pbp.csv')\n",
    "organized_game_info_2 = game_info.groupby(['match_id', 'set_id'])['game_id'].mean().reset_index(name='mean_game_id')\n",
    "pd.merge(match_away_team_info, organized_game_info_2, how='inner').groupby('gender')['mean_game_id'].mean()"
   ]
  },
  {
   "cell_type": "markdown",
   "metadata": {},
   "source": [
    "**13. What is the distribution of left-handed versus right-handed players?**"
   ]
  },
  {
   "cell_type": "code",
   "execution_count": 5,
   "metadata": {},
   "outputs": [
    {
     "data": {
      "image/png": "[encoded data removed]",
      "text/plain": [
       "<Figure size 1200x600 with 2 Axes>"
      ]
     },
     "metadata": {},
     "output_type": "display_data"
    }
   ],
   "source": [
    "match_away_team_info = pd.read_csv('project1/df/df_away_team_1.csv').drop_duplicates(subset='match_id', keep='first')\n",
    "match_home_team_info = pd.read_csv('project1/df/df_home_team_1.csv').drop_duplicates(subset='match_id', keep='first')\n",
    "total_team_info = pd.merge(match_away_team_info, match_home_team_info, how='outer')\n",
    "handedness_count = total_team_info['plays'].value_counts(normalize=True)\n",
    "\n",
    "fig, (ax1, ax2) = plt.subplots(1, 2, figsize=(12, 6))\n",
    "\n",
    "# Bar plot\n",
    "ax1.bar(handedness_count.index,handedness_count.values, color='#1C8001')\n",
    "ax1.set_xlabel('Handedness')\n",
    "ax1.set_ylabel('Percentage')\n",
    "ax1.set_title('Player Handedness Distribution')\n",
    "ax1.tick_params(axis='x', labelrotation=0)\n",
    "\n",
    "# Pie chart\n",
    "colors = ['#760A38', '#FF5733', '#FFFFFF', '#000000']\n",
    "ax2.pie(handedness_count.values, colors=colors, labels=handedness_count.index, autopct='%1.1f%%')\n",
    "ax2.set_title('Player Handedness Distribution')\n",
    "\n",
    "plt.tight_layout()\n",
    "plt.show()"
   ]
  },
  {
   "cell_type": "markdown",
   "metadata": {},
   "source": [
    "**14. What is the most common type of surface used in tournaments?**"
   ]
  },
  {
   "cell_type": "code",
   "execution_count": 15,
   "metadata": {},
   "outputs": [
    {
     "data": {
      "text/html": [
       "<div>\n",
       "<style scoped>\n",
       "    .dataframe tbody tr th:only-of-type {\n",
       "        vertical-align: middle;\n",
       "    }\n",
       "\n",
       "    .dataframe tbody tr th {\n",
       "        vertical-align: top;\n",
       "    }\n",
       "\n",
       "    .dataframe thead th {\n",
       "        text-align: right;\n",
       "    }\n",
       "</style>\n",
       "<table border=\"1\" class=\"dataframe\">\n",
       "  <thead>\n",
       "    <tr style=\"text-align: right;\">\n",
       "      <th></th>\n",
       "      <th>ground_type</th>\n",
       "      <th>tournament_id</th>\n",
       "    </tr>\n",
       "  </thead>\n",
       "  <tbody>\n",
       "    <tr>\n",
       "      <th>0</th>\n",
       "      <td>Hardcourt indoor</td>\n",
       "      <td>4</td>\n",
       "    </tr>\n",
       "    <tr>\n",
       "      <th>1</th>\n",
       "      <td>Hardcourt outdoor</td>\n",
       "      <td>75</td>\n",
       "    </tr>\n",
       "    <tr>\n",
       "      <th>2</th>\n",
       "      <td>Red clay</td>\n",
       "      <td>213</td>\n",
       "    </tr>\n",
       "    <tr>\n",
       "      <th>3</th>\n",
       "      <td>Synthetic outdoor</td>\n",
       "      <td>2</td>\n",
       "    </tr>\n",
       "  </tbody>\n",
       "</table>\n",
       "</div>"
      ],
      "text/plain": [
       "         ground_type  tournament_id\n",
       "0   Hardcourt indoor              4\n",
       "1  Hardcourt outdoor             75\n",
       "2           Red clay            213\n",
       "3  Synthetic outdoor              2"
      ]
     },
     "execution_count": 15,
     "metadata": {},
     "output_type": "execute_result"
    }
   ],
   "source": [
    "pd.read_csv('df/df_tournament.csv').drop_duplicates(subset='tournament_id', keep='first').groupby('ground_type')['tournament_id'].count().reset_index()"
   ]
  },
  {
   "cell_type": "markdown",
   "metadata": {},
   "source": [
    "Red clay is the most common type of surface."
   ]
  },
  {
   "cell_type": "markdown",
   "metadata": {},
   "source": [
    "**15. How many distinct countries are represented in the dataset?**"
   ]
  },
  {
   "cell_type": "code",
   "execution_count": 59,
   "metadata": {},
   "outputs": [
    {
     "data": {
      "text/plain": [
       "103"
      ]
     },
     "execution_count": 59,
     "metadata": {},
     "output_type": "execute_result"
    }
   ],
   "source": [
    "match_venue_info = pd.read_csv('df/df_venue.csv').drop_duplicates(subset='match_id', keep='first')\n",
    "a = match_venue_info['country'].unique()\n",
    "match_total_info = pd.merge(match_away_team_info, match_home_team_info, how='outer')\n",
    "residence_country = match_total_info['residence'].unique()\n",
    "\n",
    "# Create a list of valid countries using pycountry\n",
    "valid_countries = [country.name for country in pycountry.countries]\n",
    "\n",
    "# Obtain the unique countries\n",
    "unique_countries = []\n",
    "for place in residence_country:\n",
    "    if isinstance(place, str):\n",
    "        if ',' in place:\n",
    "            country = place.split(',')[-1].strip()\n",
    "        else:\n",
    "            country = place\n",
    "        \n",
    "        # Validate the extracted country name using the valid_countries list\n",
    "        if country in valid_countries:\n",
    "            unique_countries.append(country)\n",
    "\n",
    "# Remove duplicate countries and convert to NumPy array\n",
    "unique_countries = np.array(list(set(unique_countries)))\n",
    "\n",
    "total_countries = np.concatenate((match_total_info['country'], match_venue_info['country'], unique_countries))\n",
    "len(np.unique(total_countries))\n"
   ]
  },
  {
   "cell_type": "markdown",
   "metadata": {},
   "source": [
    "**16. Which player has the highest winning percentage against top 10 ranked opponents?**"
   ]
  },
  {
   "cell_type": "code",
   "execution_count": null,
   "metadata": {},
   "outputs": [],
   "source": [
    "#opend and prepare df\n",
    "df_rank_player_winners = pd.read_csv('df_rank_player_winners.csv')\n",
    "\n",
    "df_home_team_1 = pd.read_csv('df/df_home_team_1.csv').drop_duplicates(subset='match_id')\n",
    "df_away_team_1 = pd.read_csv('df/df_away_team_1.csv').drop_duplicates(subset='match_id')\n",
    "df_home_team_1['team_type'] = 'home'\n",
    "df_away_team_1['team_type'] = 'away'\n",
    "df_team = pd.concat([df_home_team_1,df_away_team_1],ignore_index=True)\n",
    "#top 10 rank df\n",
    "df_rank_player = df_team[['match_id','player_id','current_rank']].sort_values('current_rank',ascending=True).dropna()\n",
    "df_top_10_rank_player = df_rank_player.loc[df_rank_player['current_rank']<= 10 , ['match_id','player_id','current_rank']]\n",
    "#create df match winer losser id\n",
    "\n",
    "df_player_id_details_0 =df_match_winners[['match_id','match_winner','player_id']].merge(df_team[['player_id','match_id','team_type']] , on='match_id', suffixes=('_winner', '_losser'))\n",
    "df_player_id_details = df_player_id_details_0[~(df_player_id_details_0['player_id_winner'] == df_player_id_details_0['player_id_losser'])]\n",
    "df_player_id_winner_losser = df_player_id_details[['match_id','player_id_winner','player_id_losser']]"
   ]
  },
  {
   "cell_type": "code",
   "execution_count": null,
   "metadata": {},
   "outputs": [],
   "source": [
    "#compare\n",
    "winner_againt_top_10 = []\n",
    "for top_player in df_top_10_rank_player['player_id']:\n",
    "    # Check if the winner is in df_player_id_winner_losser['player_id_losser']\n",
    "    if top_player in df_player_id_winner_losser['player_id_losser'].values:\n",
    "        # Get the corresponding player_id_winner for the match\n",
    "        player_id_winner = int(df_player_id_winner_losser.loc[df_player_id_winner_losser['player_id_losser'] == top_player, 'player_id_winner'].values[0])\n",
    "        winner_againt_top_10.append(player_id_winner)\n",
    "\n",
    "winner_againt_top_10"
   ]
  },
  {
   "cell_type": "code",
   "execution_count": null,
   "metadata": {},
   "outputs": [],
   "source": [
    "top_winner_againt_top_10_id = max(set(winner_againt_top_10), key = winner_againt_top_10.count)\n",
    "max_repeats = winner_againt_top_10.count(top_winner_againt_top_10_id)\n",
    "top_winner_againt_top_10_id"
   ]
  },
  {
   "cell_type": "markdown",
   "metadata": {},
   "source": [
    "**17. What is the average number of breaks of serve per match?**"
   ]
  },
  {
   "cell_type": "code",
   "execution_count": 57,
   "metadata": {},
   "outputs": [
    {
     "data": {
      "text/plain": [
       "np.float64(6.49257025158158)"
      ]
     },
     "execution_count": 57,
     "metadata": {},
     "output_type": "execute_result"
    }
   ],
   "source": [
    "period_info = pd.read_csv('df/df_statistics.csv')\n",
    "organized_period_info = period_info[period_info['statistic_name'] == 'break_points_converted'].groupby('match_id').size().reset_index(name='total')\n",
    "organized_period_info['total'].mean()"
   ]
  },
  {
   "cell_type": "markdown",
   "metadata": {},
   "source": [
    "**18. Does experience affect player's rank?** "
   ]
  },
  {
   "cell_type": "code",
   "execution_count": 14,
   "metadata": {},
   "outputs": [
    {
     "data": {
      "image/png": "[encoded data removed]",
      "text/plain": [
       "<Figure size 1200x600 with 1 Axes>"
      ]
     },
     "metadata": {},
     "output_type": "display_data"
    }
   ],
   "source": [
    "match_away_team_info = pd.read_csv('project1/df/df_away_team_1.csv').drop_duplicates(subset='match_id', keep='first')\n",
    "match_home_team_info = pd.read_csv('project1/df/df_home_team_1.csv').drop_duplicates(subset='match_id', keep='first')\n",
    "total_team_info = pd.merge(match_away_team_info, match_home_team_info, how='outer')\n",
    "organized_team_info = total_team_info.groupby('turned_pro')['current_rank'].mean().reset_index()\n",
    "\n",
    "# Bar plot\n",
    "fig, (ax1) = plt.subplots(figsize=(12, 6))\n",
    "ax1.bar(organized_team_info['turned_pro'],organized_team_info['current_rank'], color='#0017FF')\n",
    "ax1.set_xlabel('turned_pro')\n",
    "ax1.set_ylabel('average_rank')\n",
    "ax1.set_title('rank vs experience')\n",
    "ax1.tick_params(axis='x', labelrotation=0)"
   ]
  },
  {
   "cell_type": "markdown",
   "metadata": {},
   "source": [
    "We can't see a pattern here."
   ]
  },
  {
   "cell_type": "markdown",
   "metadata": {},
   "source": [
    "Players with 6 years experience have the best ranking."
   ]
  },
  {
   "cell_type": "markdown",
   "metadata": {},
   "source": [
    "Players with 23 years experience have the worst ranking."
   ]
  },
  {
   "cell_type": "markdown",
   "metadata": {},
   "source": [
    "**19. Does live streaming affect game suspension?**"
   ]
  },
  {
   "cell_type": "code",
   "execution_count": 18,
   "metadata": {},
   "outputs": [
    {
     "data": {
      "text/html": [
       "<div>\n",
       "<style scoped>\n",
       "    .dataframe tbody tr th:only-of-type {\n",
       "        vertical-align: middle;\n",
       "    }\n",
       "\n",
       "    .dataframe tbody tr th {\n",
       "        vertical-align: top;\n",
       "    }\n",
       "\n",
       "    .dataframe thead th {\n",
       "        text-align: right;\n",
       "    }\n",
       "</style>\n",
       "<table border=\"1\" class=\"dataframe\">\n",
       "  <thead>\n",
       "    <tr style=\"text-align: right;\">\n",
       "      <th></th>\n",
       "      <th>is_live</th>\n",
       "      <th>suspended</th>\n",
       "    </tr>\n",
       "  </thead>\n",
       "  <tbody>\n",
       "    <tr>\n",
       "      <th>0</th>\n",
       "      <td>False</td>\n",
       "      <td>16768</td>\n",
       "    </tr>\n",
       "    <tr>\n",
       "      <th>1</th>\n",
       "      <td>True</td>\n",
       "      <td>16972</td>\n",
       "    </tr>\n",
       "  </tbody>\n",
       "</table>\n",
       "</div>"
      ],
      "text/plain": [
       "   is_live  suspended\n",
       "0    False      16768\n",
       "1     True      16972"
      ]
     },
     "execution_count": 18,
     "metadata": {},
     "output_type": "execute_result"
    }
   ],
   "source": [
    "odds_info = pd.read_csv('project1/df/df_odds.csv')\n",
    "odds_info.groupby('is_live')['suspended'].count().reset_index()"
   ]
  },
  {
   "cell_type": "code",
   "execution_count": 39,
   "metadata": {},
   "outputs": [
    {
     "data": {
      "text/plain": [
       "0.3023117960877286"
      ]
     },
     "execution_count": 39,
     "metadata": {},
     "output_type": "execute_result"
    }
   ],
   "source": [
    "(0.5 - (16768/(16768 + 16972))) * 100"
   ]
  },
  {
   "cell_type": "markdown",
   "metadata": {},
   "source": [
    "Less than one percent live streaming affects game suspension."
   ]
  },
  {
   "cell_type": "markdown",
   "metadata": {},
   "source": [
    "**20. in which set more break of serves occur?**"
   ]
  },
  {
   "cell_type": "code",
   "execution_count": 25,
   "metadata": {},
   "outputs": [
    {
     "data": {
      "text/html": [
       "<div>\n",
       "<style scoped>\n",
       "    .dataframe tbody tr th:only-of-type {\n",
       "        vertical-align: middle;\n",
       "    }\n",
       "\n",
       "    .dataframe tbody tr th {\n",
       "        vertical-align: top;\n",
       "    }\n",
       "\n",
       "    .dataframe thead th {\n",
       "        text-align: right;\n",
       "    }\n",
       "</style>\n",
       "<table border=\"1\" class=\"dataframe\">\n",
       "  <thead>\n",
       "    <tr style=\"text-align: right;\">\n",
       "      <th></th>\n",
       "      <th>set_num</th>\n",
       "      <th>break_occurred</th>\n",
       "    </tr>\n",
       "  </thead>\n",
       "  <tbody>\n",
       "    <tr>\n",
       "      <th>4</th>\n",
       "      <td>5</td>\n",
       "      <td>0.535714</td>\n",
       "    </tr>\n",
       "    <tr>\n",
       "      <th>3</th>\n",
       "      <td>4</td>\n",
       "      <td>0.524882</td>\n",
       "    </tr>\n",
       "    <tr>\n",
       "      <th>0</th>\n",
       "      <td>1</td>\n",
       "      <td>0.502430</td>\n",
       "    </tr>\n",
       "    <tr>\n",
       "      <th>1</th>\n",
       "      <td>2</td>\n",
       "      <td>0.499477</td>\n",
       "    </tr>\n",
       "    <tr>\n",
       "      <th>2</th>\n",
       "      <td>3</td>\n",
       "      <td>0.499000</td>\n",
       "    </tr>\n",
       "  </tbody>\n",
       "</table>\n",
       "</div>"
      ],
      "text/plain": [
       "   set_num  break_occurred\n",
       "4        5        0.535714\n",
       "3        4        0.524882\n",
       "0        1        0.502430\n",
       "1        2        0.499477\n",
       "2        3        0.499000"
      ]
     },
     "execution_count": 25,
     "metadata": {},
     "output_type": "execute_result"
    }
   ],
   "source": [
    "power_info = pd.read_csv('project1/df/df_power.csv')\n",
    "organized_power_info = power_info.groupby('set_num')['break_occurred'].mean().reset_index()\n",
    "organized_power_info.sort_values(ascending=False, by = 'break_occurred')"
   ]
  },
  {
   "cell_type": "markdown",
   "metadata": {},
   "source": [
    "We can see in the two last sets this number increase which can happen because of the tiredness."
   ]
  },
  {
   "cell_type": "markdown",
   "metadata": {},
   "source": [
    "**21. In which countries the most matches have been played?**"
   ]
  },
  {
   "cell_type": "code",
   "execution_count": 34,
   "metadata": {},
   "outputs": [
    {
     "data": {
      "text/html": [
       "<div>\n",
       "<style scoped>\n",
       "    .dataframe tbody tr th:only-of-type {\n",
       "        vertical-align: middle;\n",
       "    }\n",
       "\n",
       "    .dataframe tbody tr th {\n",
       "        vertical-align: top;\n",
       "    }\n",
       "\n",
       "    .dataframe thead th {\n",
       "        text-align: right;\n",
       "    }\n",
       "</style>\n",
       "<table border=\"1\" class=\"dataframe\">\n",
       "  <thead>\n",
       "    <tr style=\"text-align: right;\">\n",
       "      <th></th>\n",
       "      <th>country</th>\n",
       "      <th>total_match</th>\n",
       "    </tr>\n",
       "  </thead>\n",
       "  <tbody>\n",
       "    <tr>\n",
       "      <th>12</th>\n",
       "      <td>France</td>\n",
       "      <td>803</td>\n",
       "    </tr>\n",
       "    <tr>\n",
       "      <th>31</th>\n",
       "      <td>Tunisia</td>\n",
       "      <td>796</td>\n",
       "    </tr>\n",
       "    <tr>\n",
       "      <th>16</th>\n",
       "      <td>Italy</td>\n",
       "      <td>725</td>\n",
       "    </tr>\n",
       "    <tr>\n",
       "      <th>28</th>\n",
       "      <td>Spain</td>\n",
       "      <td>715</td>\n",
       "    </tr>\n",
       "    <tr>\n",
       "      <th>24</th>\n",
       "      <td>Serbia</td>\n",
       "      <td>688</td>\n",
       "    </tr>\n",
       "    <tr>\n",
       "      <th>23</th>\n",
       "      <td>Romania</td>\n",
       "      <td>540</td>\n",
       "    </tr>\n",
       "    <tr>\n",
       "      <th>33</th>\n",
       "      <td>USA</td>\n",
       "      <td>432</td>\n",
       "    </tr>\n",
       "    <tr>\n",
       "      <th>7</th>\n",
       "      <td>Croatia</td>\n",
       "      <td>420</td>\n",
       "    </tr>\n",
       "    <tr>\n",
       "      <th>4</th>\n",
       "      <td>China</td>\n",
       "      <td>408</td>\n",
       "    </tr>\n",
       "    <tr>\n",
       "      <th>32</th>\n",
       "      <td>Turkey</td>\n",
       "      <td>400</td>\n",
       "    </tr>\n",
       "    <tr>\n",
       "      <th>26</th>\n",
       "      <td>Slovenia</td>\n",
       "      <td>357</td>\n",
       "    </tr>\n",
       "    <tr>\n",
       "      <th>18</th>\n",
       "      <td>Japan</td>\n",
       "      <td>341</td>\n",
       "    </tr>\n",
       "    <tr>\n",
       "      <th>2</th>\n",
       "      <td>Bosnia &amp; Herzegovina</td>\n",
       "      <td>276</td>\n",
       "    </tr>\n",
       "    <tr>\n",
       "      <th>1</th>\n",
       "      <td>Austria</td>\n",
       "      <td>262</td>\n",
       "    </tr>\n",
       "    <tr>\n",
       "      <th>29</th>\n",
       "      <td>Sweden</td>\n",
       "      <td>191</td>\n",
       "    </tr>\n",
       "    <tr>\n",
       "      <th>13</th>\n",
       "      <td>Georgia</td>\n",
       "      <td>172</td>\n",
       "    </tr>\n",
       "    <tr>\n",
       "      <th>3</th>\n",
       "      <td>Brazil</td>\n",
       "      <td>167</td>\n",
       "    </tr>\n",
       "    <tr>\n",
       "      <th>17</th>\n",
       "      <td>Jamaica</td>\n",
       "      <td>161</td>\n",
       "    </tr>\n",
       "    <tr>\n",
       "      <th>11</th>\n",
       "      <td>Ethiopia</td>\n",
       "      <td>144</td>\n",
       "    </tr>\n",
       "    <tr>\n",
       "      <th>27</th>\n",
       "      <td>South Korea</td>\n",
       "      <td>142</td>\n",
       "    </tr>\n",
       "    <tr>\n",
       "      <th>9</th>\n",
       "      <td>Dominican Republic</td>\n",
       "      <td>133</td>\n",
       "    </tr>\n",
       "    <tr>\n",
       "      <th>14</th>\n",
       "      <td>Germany</td>\n",
       "      <td>132</td>\n",
       "    </tr>\n",
       "    <tr>\n",
       "      <th>6</th>\n",
       "      <td>Colombia</td>\n",
       "      <td>119</td>\n",
       "    </tr>\n",
       "    <tr>\n",
       "      <th>0</th>\n",
       "      <td>Argentina</td>\n",
       "      <td>106</td>\n",
       "    </tr>\n",
       "    <tr>\n",
       "      <th>22</th>\n",
       "      <td>Portugal</td>\n",
       "      <td>103</td>\n",
       "    </tr>\n",
       "    <tr>\n",
       "      <th>8</th>\n",
       "      <td>Czech Republic</td>\n",
       "      <td>101</td>\n",
       "    </tr>\n",
       "    <tr>\n",
       "      <th>19</th>\n",
       "      <td>Mexico</td>\n",
       "      <td>90</td>\n",
       "    </tr>\n",
       "    <tr>\n",
       "      <th>5</th>\n",
       "      <td>Chinese Taipei</td>\n",
       "      <td>64</td>\n",
       "    </tr>\n",
       "    <tr>\n",
       "      <th>25</th>\n",
       "      <td>Slovakia</td>\n",
       "      <td>56</td>\n",
       "    </tr>\n",
       "    <tr>\n",
       "      <th>15</th>\n",
       "      <td>Hungary</td>\n",
       "      <td>55</td>\n",
       "    </tr>\n",
       "    <tr>\n",
       "      <th>10</th>\n",
       "      <td>England</td>\n",
       "      <td>53</td>\n",
       "    </tr>\n",
       "    <tr>\n",
       "      <th>21</th>\n",
       "      <td>North Macedonia</td>\n",
       "      <td>50</td>\n",
       "    </tr>\n",
       "    <tr>\n",
       "      <th>20</th>\n",
       "      <td>Morocco</td>\n",
       "      <td>45</td>\n",
       "    </tr>\n",
       "    <tr>\n",
       "      <th>30</th>\n",
       "      <td>Switzerland</td>\n",
       "      <td>39</td>\n",
       "    </tr>\n",
       "  </tbody>\n",
       "</table>\n",
       "</div>"
      ],
      "text/plain": [
       "                 country  total_match\n",
       "12                France          803\n",
       "31               Tunisia          796\n",
       "16                 Italy          725\n",
       "28                 Spain          715\n",
       "24                Serbia          688\n",
       "23               Romania          540\n",
       "33                   USA          432\n",
       "7                Croatia          420\n",
       "4                  China          408\n",
       "32                Turkey          400\n",
       "26              Slovenia          357\n",
       "18                 Japan          341\n",
       "2   Bosnia & Herzegovina          276\n",
       "1                Austria          262\n",
       "29                Sweden          191\n",
       "13               Georgia          172\n",
       "3                 Brazil          167\n",
       "17               Jamaica          161\n",
       "11              Ethiopia          144\n",
       "27           South Korea          142\n",
       "9     Dominican Republic          133\n",
       "14               Germany          132\n",
       "6               Colombia          119\n",
       "0              Argentina          106\n",
       "22              Portugal          103\n",
       "8         Czech Republic          101\n",
       "19                Mexico           90\n",
       "5         Chinese Taipei           64\n",
       "25              Slovakia           56\n",
       "15               Hungary           55\n",
       "10               England           53\n",
       "21       North Macedonia           50\n",
       "20               Morocco           45\n",
       "30           Switzerland           39"
      ]
     },
     "execution_count": 34,
     "metadata": {},
     "output_type": "execute_result"
    }
   ],
   "source": [
    "match_venue_info = pd.read_csv('project1/df/df_venue.csv').drop_duplicates(subset='match_id', keep='first')\n",
    "organized_venue_info = match_venue_info.groupby('country')['match_id'].count().reset_index(name='total_match')\n",
    "organized_venue_info.sort_values(ascending=False, by = 'total_match')"
   ]
  },
  {
   "cell_type": "markdown",
   "metadata": {},
   "source": [
    "**22. Does hosting increases the chance of winning?**"
   ]
  },
  {
   "cell_type": "code",
   "execution_count": 48,
   "metadata": {},
   "outputs": [
    {
     "data": {
      "text/plain": [
       "0.5096872616323417"
      ]
     },
     "execution_count": 48,
     "metadata": {},
     "output_type": "execute_result"
    }
   ],
   "source": [
    "df_match_winners = pd.read_csv('match_winners.csv')\n",
    "number_of_home_winner = int(df_match_winners['match_winner'].value_counts()['home'])\n",
    "number_of_away_winner = int(df_match_winners['match_winner'].value_counts()['away'])\n",
    "#winning home team chance\n",
    "number_of_home_winner/len(df_match_winners['match_winner']) "
   ]
  },
  {
   "cell_type": "code",
   "execution_count": 49,
   "metadata": {},
   "outputs": [
    {
     "data": {
      "text/plain": [
       "0.9687261632341682"
      ]
     },
     "execution_count": 49,
     "metadata": {},
     "output_type": "execute_result"
    }
   ],
   "source": [
    "((number_of_home_winner/len(df_match_winners['match_winner'])-(1-(number_of_home_winner/len(df_match_winners['match_winner'])))) )*100/2"
   ]
  },
  {
   "cell_type": "markdown",
   "metadata": {},
   "source": [
    "As you can see, hosting increases the chance of winning by almost 1%"
   ]
  },
  {
   "cell_type": "markdown",
   "metadata": {},
   "source": [
    "**23. Check how the average match time has a relationship with the rank difference of two players? have the matches of players with close ranks usually  longer match time?**"
   ]
  },
  {
   "cell_type": "code",
   "execution_count": null,
   "metadata": {},
   "outputs": [],
   "source": [
    "df_time = pd.read_csv('df/df_time.csv')\n",
    "df_time = df_time.fillna(value=0)\n",
    "df_time = df_time.drop_duplicates(subset='match_id')\n",
    "df_time['total_peroid'] =  df_time['period_1']+ df_time['period_2']+ df_time['period_3']+ df_time['period_4']+ df_time['period_5']\n",
    "df_time.sort_values(by='total_peroid')\n",
    "match_time = df_time.groupby('match_id')['total_peroid'].max().reset_index()\n",
    "#remove 0 match time values before get mean of that\n",
    "match_time = match_time[match_time['total_peroid'] != 0]\n",
    "match_time\n",
    "match_time_Q3 = int(match_time['total_peroid'].quantile(0.75))\n",
    "match_time['distance_to_Q3'] = match_time['total_peroid'] - match_time_Q3\n",
    "long_match_time = match_time[match_time['distance_to_Q3']> 0]\n"
   ]
  },
  {
   "cell_type": "markdown",
   "metadata": {},
   "source": [
    "AS you can see above there are 1529 long match"
   ]
  },
  {
   "cell_type": "code",
   "execution_count": null,
   "metadata": {},
   "outputs": [],
   "source": [
    "#now we can see relation same rank player and this match\n",
    "df_home_team_1 = pd.read_csv('df/df_home_team_1.csv').drop_duplicates(subset='match_id')\n",
    "df_away_team_1 = pd.read_csv('df/df_away_team_1.csv').drop_duplicates(subset='match_id')\n",
    "df_long_match_time_with_player_rank =long_match_time.merge(df_home_team_1[['match_id','current_rank']], on='match_id',how='left').rename(columns={'current_rank': 'home_player_rank'})\n",
    "df_long_match_time_with_player_rank = df_long_match_time_with_player_rank.merge(df_away_team_1[['match_id','current_rank']], on='match_id',how='left').rename(columns={'current_rank': 'away_player_rank'})\n",
    "df_long_match_time_with_player_rank['rank_distance']=abs(df_long_match_time_with_player_rank['home_player_rank']- df_long_match_time_with_player_rank['away_player_rank'])\n",
    "\n",
    "sns.scatterplot(x='rank_distance', y='distance_to_Q3', data=df_long_match_time_with_player_rank)\n",
    "plt.title('Relationship between rank_dastance and distance_to_Q3')\n",
    "plt.show()"
   ]
  },
  {
   "cell_type": "markdown",
   "metadata": {},
   "source": [
    "As you can see, most of these long games are in a small rank difference between the players\n",
    "،And the more the rank difference increases, the less the race is longed"
   ]
  },
  {
   "cell_type": "markdown",
   "metadata": {},
   "source": [
    "There is a large density of data in the rank difference range of 200 and we can save that"
   ]
  },
  {
   "cell_type": "code",
   "execution_count": null,
   "metadata": {},
   "outputs": [],
   "source": [
    "#save df_200_rank_distance \n",
    "df_200_rank_distance = df_long_match_time_with_player_rank[df_long_match_time_with_player_rank['rank_distance']<=200]\n",
    "len(df_200_rank_distance)/len(df_long_match_time_with_player_rank)*100"
   ]
  },
  {
   "cell_type": "markdown",
   "metadata": {},
   "source": [
    "About 50% of these long matches were related to the 200 rank difference"
   ]
  },
  {
   "cell_type": "code",
   "execution_count": null,
   "metadata": {},
   "outputs": [],
   "source": [
    "mean_match_time_of_200_rank_player_distance = int(df_200_rank_distance['total_peroid'].mean())"
   ]
  },
  {
   "cell_type": "code",
   "execution_count": null,
   "metadata": {},
   "outputs": [],
   "source": [
    "#compare all match time and 200 rank player distance\n",
    "((mean_match_time_of_200_rank_player_distance / int(match_time['total_peroid'].mean()))-1)*100"
   ]
  },
  {
   "cell_type": "markdown",
   "metadata": {},
   "source": [
    "mean of this player match time 72% more than all players match time"
   ]
  },
  {
   "cell_type": "code",
   "execution_count": null,
   "metadata": {},
   "outputs": [],
   "source": [
    "sns.scatterplot(x='rank_distance', y='distance_to_Q3', data=df_200_rank_distance)\n",
    "plt.title('Relationship between rank_dastance and distance_to_Q3')\n",
    "plt.show()"
   ]
  },
  {
   "cell_type": "markdown",
   "metadata": {},
   "source": [
    "**24. How much does average height and weight increase a player's winning chances?**"
   ]
  },
  {
   "cell_type": "code",
   "execution_count": null,
   "metadata": {},
   "outputs": [],
   "source": [
    "#open needed dataframe\n",
    "df_match_winners = pd.read_csv('df/match_winner.csv')\n",
    "df_home_team_1 = pd.read_csv('df/df_home_team_1.csv').drop_duplicates(subset='match_id').dropna(subset='height')\n",
    "df_away_team_1 = pd.read_csv('df/df_away_team_1.csv').drop_duplicates(subset='match_id').dropna(subset='height')\n",
    "\n",
    "#seprate away and home player to single dataframe for merge\n",
    "df_match_winners_away = df_match_winners.loc[df_match_winners['match_winner'] == 'away',  ['match_id','match_winner']]\n",
    "df_match_winners_home = df_match_winners.loc[df_match_winners['match_winner'] == 'home',  ['match_id','match_winner']]\n",
    "\n",
    "#merge df to find player id winner for each match\n",
    "df_match_winners_away_with_player_id = df_match_winners_away.merge(df_away_team_1[['player_id','height', 'match_id']] , on='match_id', how='right')\n",
    "df_match_winners_home_with_player_id = df_match_winners_home.merge(df_home_team_1[['player_id','height', 'match_id']] , on='match_id', how='right')\n",
    "\n",
    "#concate home and away dataframe winner\n",
    "df_match_height = pd.concat([df_match_winners_away_with_player_id,df_match_winners_home_with_player_id] )\n"
   ]
  },
  {
   "cell_type": "code",
   "execution_count": null,
   "metadata": {},
   "outputs": [],
   "source": [
    "height_means_of_all = df_match_height['height'].mean()\n",
    "df_match_winners_with_player_height = df_match_height.dropna(subset='match_winner')\n",
    "df_match_winners_with_player_height['%distance_to_mean'] = (df_match_winners_with_player_height['height']-height_means_of_all)/height_means_of_all*100\n",
    "df_match_winners_with_player_height['%distance_to_mean'] = df_match_winners_with_player_height['%distance_to_mean'].astype(int)\n",
    "df_compare = df_match_winners_with_player_height.groupby('%distance_to_mean')['match_id'].count().reset_index()\n",
    "df_compare = df_compare.rename(columns={'match_id':'number_of_match'})\n",
    "\n",
    "sns.scatterplot(y='number_of_match', x='%distance_to_mean', data=df_compare)\n",
    "plt.title('Relationship number_of_match and %distance_to_mean')\n",
    "plt.show()"
   ]
  },
  {
   "cell_type": "code",
   "execution_count": null,
   "metadata": {},
   "outputs": [],
   "source": [
    "#lower_than_mean_height_chance :\n",
    "higher_than_mean_chance =(len(df_match_winners_with_player_height[df_match_winners_with_player_height['%distance_to_mean'] > 0])/len(df_match_winners_with_player_height))*100\n",
    "lower_than_mean_chance = (len(df_match_winners_with_player_height[df_match_winners_with_player_height['%distance_to_mean'] < 0])/len(df_match_winners_with_player_height))*100\n",
    "( (lower_than_mean_chance/(higher_than_mean_chance+lower_than_mean_chance))- 0.5 )*100"
   ]
  },
  {
   "cell_type": "markdown",
   "metadata": {},
   "source": [
    "Now for wight:"
   ]
  },
  {
   "cell_type": "code",
   "execution_count": null,
   "metadata": {},
   "outputs": [],
   "source": [
    "#seprate away and home player to single dataframe for merge\n",
    "df_match_winners_away = df_match_winners.loc[df_match_winners['match_winner'] == 'away',  ['match_id','match_winner']]\n",
    "df_match_winners_home = df_match_winners.loc[df_match_winners['match_winner'] == 'home',  ['match_id','match_winner']]\n",
    "\n",
    "#merge df to find player id winner for each match\n",
    "df_match_winners_away_with_player_id = df_match_winners_away.merge(df_away_team_1[['player_id','weight', 'match_id']] , on='match_id', how='right')\n",
    "df_match_winners_home_with_player_id = df_match_winners_home.merge(df_home_team_1[['player_id','weight', 'match_id']] , on='match_id', how='right')\n",
    "\n",
    "#concate home and away dataframe winner\n",
    "df_match_height = pd.concat([df_match_winners_away_with_player_id,df_match_winners_home_with_player_id] )"
   ]
  },
  {
   "cell_type": "code",
   "execution_count": null,
   "metadata": {},
   "outputs": [],
   "source": [
    "weight_means_of_all = df_match_height['weight'].mean()\n",
    "df_match_winners_with_player_weight = df_match_height.dropna(subset='match_winner')\n",
    "df_match_winners_with_player_weight['%distance_to_mean'] = (df_match_winners_with_player_weight['weight']-weight_means_of_all)/weight_means_of_all*100\n",
    "df_match_winners_with_player_weight['%distance_to_mean'] = df_match_winners_with_player_weight['%distance_to_mean'].astype(int)\n",
    "df_compare = df_match_winners_with_player_weight.groupby('%distance_to_mean')['match_id'].count().reset_index()\n",
    "df_compare = df_compare.rename(columns={'match_id':'number_of_match'})\n",
    "\n",
    "sns.scatterplot(y='number_of_match', x='%distance_to_mean', data=df_compare)\n",
    "plt.title('Relationship number_of_match and %distance_to_mean')\n",
    "plt.show()\n"
   ]
  },
  {
   "cell_type": "code",
   "execution_count": null,
   "metadata": {},
   "outputs": [],
   "source": [
    "#lower_than_mean_height_chance :\n",
    "higher_than_mean_chance = len(df_match_winners_with_player_height[df_match_winners_with_player_height['%distance_to_mean'] == 0])/len(df_match_winners_with_player_height)*100\n",
    "lower_than_mean_chance = (len(df_match_winners_with_player_height[df_match_winners_with_player_height['%distance_to_mean'] < 0])/len(df_match_winners_with_player_height))*100\n",
    "( (lower_than_mean_chance/(higher_than_mean_chance+lower_than_mean_chance))- 0.5 )*100"
   ]
  },
  {
   "cell_type": "markdown",
   "metadata": {},
   "source": [
    "**25. As we get closer to the final round in each tournament, do the matches get longer?**"
   ]
  },
  {
   "cell_type": "code",
   "execution_count": null,
   "metadata": {},
   "outputs": [],
   "source": [
    "#open df\n",
    "df_match_time = pd.read_csv('match_time.csv')\n",
    "df_round = pd.read_csv('df/df_round.csv').drop_duplicates(subset='match_id')\n",
    "df_round[['match_id','slug']]\n",
    "\n",
    "df_match_time_with_round_type = df_match_time[['match_id','total_peroid']].merge(df_round[['match_id','slug']] , on='match_id',how='left')\n",
    "\n",
    "\n",
    "sns.scatterplot(x='match_id', y='total_peroid', hue='slug', data=df_match_time_with_round_type, palette='Set1')\n"
   ]
  },
  {
   "cell_type": "code",
   "execution_count": null,
   "metadata": {},
   "outputs": [],
   "source": [
    "df_match_time_with_surface_type_1 = df_match_time_with_round_type.groupby('slug')['total_peroid'].count().reset_index()\n",
    "df_match_time_with_surface_type_2 = df_match_time_with_round_type.groupby('slug')['total_peroid'].mean().reset_index()\n",
    "df_match_time_with_surface_type = df_match_time_with_surface_type_1.merge(df_match_time_with_surface_type_2,on='slug').rename(columns={'total_peroid_x': 'number_of_match', 'total_peroid_y': 'match_time_mean','slug':'round_type'})\n",
    "df_match_time_with_surface_type.sort_values(by='match_time_mean')\n"
   ]
  },
  {
   "cell_type": "markdown",
   "metadata": {},
   "source": [
    "So there is no relationship between getting closer to the final rounds and the time of the match"
   ]
  }
 ],
 "metadata": {
  "kernelspec": {
   "display_name": "Python 3",
   "language": "python",
   "name": "python3"
  },
  "language_info": {
   "codemirror_mode": {
    "name": "ipython",
    "version": 3
   },
   "file_extension": ".py",
   "mimetype": "text/x-python",
   "name": "python",
   "nbconvert_exporter": "python",
   "pygments_lexer": "ipython3",
   "version": "3.12.2"
  }
 },
 "nbformat": 4,
 "nbformat_minor": 2
}
