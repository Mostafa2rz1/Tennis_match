{
 "cells": [
  {
   "cell_type": "code",
   "execution_count": 1,
   "metadata": {},
   "outputs": [],
   "source": [
    "import numpy as np\n",
    "import pandas as pd"
   ]
  },
  {
   "cell_type": "code",
   "execution_count": 2,
   "metadata": {},
   "outputs": [
    {
     "data": {
      "text/html": [
       "<div>\n",
       "<style scoped>\n",
       "    .dataframe tbody tr th:only-of-type {\n",
       "        vertical-align: middle;\n",
       "    }\n",
       "\n",
       "    .dataframe tbody tr th {\n",
       "        vertical-align: top;\n",
       "    }\n",
       "\n",
       "    .dataframe thead th {\n",
       "        text-align: right;\n",
       "    }\n",
       "</style>\n",
       "<table border=\"1\" class=\"dataframe\">\n",
       "  <thead>\n",
       "    <tr style=\"text-align: right;\">\n",
       "      <th></th>\n",
       "      <th>Unnamed: 0</th>\n",
       "      <th>match_id</th>\n",
       "      <th>match_winner</th>\n",
       "      <th>player_id</th>\n",
       "    </tr>\n",
       "  </thead>\n",
       "  <tbody>\n",
       "    <tr>\n",
       "      <th>0</th>\n",
       "      <td>0</td>\n",
       "      <td>12260075</td>\n",
       "      <td>away</td>\n",
       "      <td>254742.0</td>\n",
       "    </tr>\n",
       "    <tr>\n",
       "      <th>1</th>\n",
       "      <td>1</td>\n",
       "      <td>12260077</td>\n",
       "      <td>away</td>\n",
       "      <td>275923.0</td>\n",
       "    </tr>\n",
       "    <tr>\n",
       "      <th>2</th>\n",
       "      <td>2</td>\n",
       "      <td>12260084</td>\n",
       "      <td>away</td>\n",
       "      <td>254742.0</td>\n",
       "    </tr>\n",
       "    <tr>\n",
       "      <th>3</th>\n",
       "      <td>3</td>\n",
       "      <td>12261530</td>\n",
       "      <td>away</td>\n",
       "      <td>106755.0</td>\n",
       "    </tr>\n",
       "    <tr>\n",
       "      <th>4</th>\n",
       "      <td>4</td>\n",
       "      <td>12261532</td>\n",
       "      <td>away</td>\n",
       "      <td>106755.0</td>\n",
       "    </tr>\n",
       "    <tr>\n",
       "      <th>...</th>\n",
       "      <td>...</td>\n",
       "      <td>...</td>\n",
       "      <td>...</td>\n",
       "      <td>...</td>\n",
       "    </tr>\n",
       "    <tr>\n",
       "      <th>6550</th>\n",
       "      <td>3336</td>\n",
       "      <td>12384674</td>\n",
       "      <td>home</td>\n",
       "      <td>134342.0</td>\n",
       "    </tr>\n",
       "    <tr>\n",
       "      <th>6551</th>\n",
       "      <td>3337</td>\n",
       "      <td>12384788</td>\n",
       "      <td>home</td>\n",
       "      <td>386338.0</td>\n",
       "    </tr>\n",
       "    <tr>\n",
       "      <th>6552</th>\n",
       "      <td>3338</td>\n",
       "      <td>12384806</td>\n",
       "      <td>home</td>\n",
       "      <td>342835.0</td>\n",
       "    </tr>\n",
       "    <tr>\n",
       "      <th>6553</th>\n",
       "      <td>3339</td>\n",
       "      <td>12384975</td>\n",
       "      <td>home</td>\n",
       "      <td>96061.0</td>\n",
       "    </tr>\n",
       "    <tr>\n",
       "      <th>6554</th>\n",
       "      <td>3340</td>\n",
       "      <td>12385017</td>\n",
       "      <td>home</td>\n",
       "      <td>254281.0</td>\n",
       "    </tr>\n",
       "  </tbody>\n",
       "</table>\n",
       "<p>6555 rows × 4 columns</p>\n",
       "</div>"
      ],
      "text/plain": [
       "      Unnamed: 0  match_id match_winner  player_id\n",
       "0              0  12260075         away   254742.0\n",
       "1              1  12260077         away   275923.0\n",
       "2              2  12260084         away   254742.0\n",
       "3              3  12261530         away   106755.0\n",
       "4              4  12261532         away   106755.0\n",
       "...          ...       ...          ...        ...\n",
       "6550        3336  12384674         home   134342.0\n",
       "6551        3337  12384788         home   386338.0\n",
       "6552        3338  12384806         home   342835.0\n",
       "6553        3339  12384975         home    96061.0\n",
       "6554        3340  12385017         home   254281.0\n",
       "\n",
       "[6555 rows x 4 columns]"
      ]
     },
     "execution_count": 2,
     "metadata": {},
     "output_type": "execute_result"
    }
   ],
   "source": [
    "df_match_winners = pd.read_csv('/home/mostafa2rz/Desktop/Tennis_project/Notebook/match_winner.csv')\n",
    "df_match_winners"
   ]
  },
  {
   "cell_type": "code",
   "execution_count": 19,
   "metadata": {},
   "outputs": [
    {
     "data": {
      "text/plain": [
       "3341"
      ]
     },
     "execution_count": 19,
     "metadata": {},
     "output_type": "execute_result"
    }
   ],
   "source": [
    "number_of_home_winner = int(df_match_winners['match_winner'].value_counts()['home'])\n",
    "number_of_away_winner = int(df_match_winners['match_winner'].value_counts()['away'])\n",
    "number_of_home_winner"
   ]
  },
  {
   "cell_type": "code",
   "execution_count": 23,
   "metadata": {},
   "outputs": [
    {
     "data": {
      "text/plain": [
       "0.5096872616323417"
      ]
     },
     "execution_count": 23,
     "metadata": {},
     "output_type": "execute_result"
    }
   ],
   "source": [
    "#winning home team chance\n",
    "number_of_home_winner/len(df_match_winners['match_winner']) "
   ]
  },
  {
   "cell_type": "code",
   "execution_count": 22,
   "metadata": {},
   "outputs": [
    {
     "data": {
      "text/plain": [
       "0.9687261632341682"
      ]
     },
     "execution_count": 22,
     "metadata": {},
     "output_type": "execute_result"
    }
   ],
   "source": [
    "((number_of_home_winner/len(df_match_winners['match_winner'])-(1-(number_of_home_winner/len(df_match_winners['match_winner'])))) )*100/2"
   ]
  },
  {
   "cell_type": "markdown",
   "metadata": {},
   "source": [
    "As you can see, hosting increases the chance of winning by almost 1%"
   ]
  }
 ],
 "metadata": {
  "kernelspec": {
   "display_name": "Tennis_env",
   "language": "python",
   "name": "python3"
  },
  "language_info": {
   "codemirror_mode": {
    "name": "ipython",
    "version": 3
   },
   "file_extension": ".py",
   "mimetype": "text/x-python",
   "name": "python",
   "nbconvert_exporter": "python",
   "pygments_lexer": "ipython3",
   "version": "3.12.3"
  }
 },
 "nbformat": 4,
 "nbformat_minor": 2
}
