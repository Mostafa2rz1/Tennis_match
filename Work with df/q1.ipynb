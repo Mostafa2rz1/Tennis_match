{
 "cells": [
  {
   "cell_type": "code",
   "execution_count": 1,
   "metadata": {},
   "outputs": [],
   "source": [
    "import numpy as np\n",
    "import pandas as pd"
   ]
  },
  {
   "cell_type": "code",
   "execution_count": 2,
   "metadata": {},
   "outputs": [],
   "source": [
    "df_home_team_1 = pd.read_csv('/home/mostafa2rz/Desktop/Tennis_project/202405/df_home_team_1.csv')\n",
    "df_away_team_1 = pd.read_csv('/home/mostafa2rz/Desktop/Tennis_project/202405/df_away_team_1.csv')\n"
   ]
  },
  {
   "cell_type": "markdown",
   "metadata": {},
   "source": [
    "javab nahayi q1"
   ]
  },
  {
   "cell_type": "code",
   "execution_count": 5,
   "metadata": {},
   "outputs": [
    {
     "data": {
      "text/plain": [
       "0        198254\n",
       "1        225278\n",
       "2        362043\n",
       "3        275471\n",
       "4        385592\n",
       "          ...  \n",
       "27040     16683\n",
       "27041    213059\n",
       "27042    185434\n",
       "27043     97995\n",
       "27044     51100\n",
       "Name: player_id, Length: 27045, dtype: int64"
      ]
     },
     "execution_count": 5,
     "metadata": {},
     "output_type": "execute_result"
    }
   ],
   "source": [
    "pd.concat([df_home_team_1['player_id'],df_away_team_1['player_id']],ignore_index=True)"
   ]
  },
  {
   "cell_type": "code",
   "execution_count": 24,
   "metadata": {},
   "outputs": [
    {
     "data": {
      "text/plain": [
       "2352"
      ]
     },
     "execution_count": 24,
     "metadata": {},
     "output_type": "execute_result"
    }
   ],
   "source": [
    "len(pd.concat([df_home_team_1['player_id'],df_away_team_1['player_id']],ignore_index=True).unique())"
   ]
  }
 ],
 "metadata": {
  "kernelspec": {
   "display_name": "Tennis_env",
   "language": "python",
   "name": "python3"
  },
  "language_info": {
   "codemirror_mode": {
    "name": "ipython",
    "version": 3
   },
   "file_extension": ".py",
   "mimetype": "text/x-python",
   "name": "python",
   "nbconvert_exporter": "python",
   "pygments_lexer": "ipython3",
   "version": "3.12.3"
  }
 },
 "nbformat": 4,
 "nbformat_minor": 2
}
